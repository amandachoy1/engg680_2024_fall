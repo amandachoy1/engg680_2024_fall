{
  "nbformat": 4,
  "nbformat_minor": 0,
  "metadata": {
    "colab": {
      "provenance": []
    },
    "kernelspec": {
      "name": "python3",
      "display_name": "Python 3"
    },
    "language_info": {
      "name": "python"
    }
  },
  "cells": [
    {
      "cell_type": "code",
      "source": [
        "from google.colab import drive\n",
        "drive.mount('/content/drive')\n",
        "\n",
        "import pandas as pd\n",
        "\n",
        "file_path = '/content/drive/My Drive/Term Project/CLOCK IN-OUT DATA.xlsx'\n",
        "\n",
        "df_data = pd.read_excel(file_path)\n",
        "arr_data = df_data.to_numpy()\n",
        "\n",
        "print(df_data)"
      ],
      "metadata": {
        "colab": {
          "base_uri": "https://localhost:8080/"
        },
        "id": "rlAw5Oj4Bi1b",
        "outputId": "83a36939-8729-4d87-ff6b-b53e210d5d3a"
      },
      "execution_count": 2,
      "outputs": [
        {
          "output_type": "stream",
          "name": "stdout",
          "text": [
            "Mounted at /content/drive\n",
            "    Employee Name  Employee ID            Designation       Date        DAY  \\\n",
            "0           Alice            1                Cleaner   1-2-2023  Wednesday   \n",
            "1            John            9                Cashier   1-2-2023  Wednesday   \n",
            "2         Bradley           13                Manager   1-2-2023  Wednesday   \n",
            "3            Mike           26            Store Clerk   1-2-2023  Wednesday   \n",
            "4             NaN           94  STOCKER/SALES/CASHIER   1-2-2023  Wednesday   \n",
            "..            ...          ...                    ...        ...        ...   \n",
            "275        Rachel            7  STOCKER/SALES/CASHIER  14-2-2023    Tuesday   \n",
            "276          Judy           41  STOCKER/SALES/CASHIER  14-2-2023    Tuesday   \n",
            "277         Clara           22                Manager  14-2-2023    Tuesday   \n",
            "278          Sera            3  STOCKER/SALES/CASHIER  14-2-2023    Tuesday   \n",
            "279           Sam           12            Store Clerk  14-2-2023    Tuesday   \n",
            "\n",
            "     Clock In Clock Out  \n",
            "0    17:55:20  19:15:02  \n",
            "1    17:56:10  22:35:00  \n",
            "2         NaN       NaN  \n",
            "3    13:44:25  20:12:23  \n",
            "4    16:20:00  17:30:24  \n",
            "..        ...       ...  \n",
            "275       NaN       NaN  \n",
            "276       NaN       NaN  \n",
            "277  16:24:13  22:03:44  \n",
            "278       NaN       NaN  \n",
            "279       NaN       NaN  \n",
            "\n",
            "[280 rows x 7 columns]\n"
          ]
        }
      ]
    },
    {
      "cell_type": "code",
      "source": [],
      "metadata": {
        "id": "_PYWzprBDi7y"
      },
      "execution_count": null,
      "outputs": []
    },
    {
      "cell_type": "code",
      "source": [
        "\n",
        "file_path_2 = '/content/drive/My Drive/Term Project/shift.xlsx'\n",
        "df_shift = pd.read_excel(file_path_2)\n",
        "arr_shift = df_data.to_numpy()\n",
        "\n",
        "print(df_shift)"
      ],
      "metadata": {
        "colab": {
          "base_uri": "https://localhost:8080/"
        },
        "id": "Zj6AiQOfDfkb",
        "outputId": "027d5896-9a00-4d15-b427-b220b511ba1a"
      },
      "execution_count": 38,
      "outputs": [
        {
          "output_type": "stream",
          "name": "stdout",
          "text": [
            "   Employee Name             DESIGNATION  CLOCK IN CLOCK OUT\n",
            "0           Alice                Cleaner  18:30:00  22:00:00\n",
            "1            John                Cashier  09:30:00  13:30:00\n",
            "2        Bradley                 Manager  17:30:00  22:00:00\n",
            "3          Celine            Store Clerk       NaN       NaN\n",
            "4            Mike  STOCKER/SALES/CASHIER  12:00:00  16:00:00\n",
            "5           Dilan  STOCKER/SALES/CASHIER  16:00:00  22:00:00\n",
            "6            Paul  STOCKER/SALES/CASHIER       NaN       NaN\n",
            "7           Johan                Cleaner       NaN       NaN\n",
            "8          Steven  STOCKER/SALES/CASHIER       NaN       NaN\n",
            "9           Amara  STOCKER/SALES/CASHIER  16:00:00  22:00:00\n",
            "10          Grace                Cashier  18:30:00  22:00:00\n",
            "11            Sue  STOCKER/SALES/CASHIER       NaN       NaN\n",
            "12          Tyler            Store Clerk       NaN       NaN\n",
            "13        Gregory  STOCKER/SALES/CASHIER  16:00:00  22:00:00\n",
            "14       Michelle            Store Clerk       NaN       NaN\n",
            "15         Rachel  STOCKER/SALES/CASHIER       NaN       NaN\n",
            "16           Judy  STOCKER/SALES/CASHIER       NaN       NaN\n",
            "17          Clara                Manager       NaN       NaN\n",
            "18           Sera  STOCKER/SALES/CASHIER       NaN       NaN\n",
            "19            Sam            Store Clerk  14:00:00  20:00:00\n"
          ]
        }
      ]
    },
    {
      "cell_type": "code",
      "source": [
        "!ls"
      ],
      "metadata": {
        "colab": {
          "base_uri": "https://localhost:8080/"
        },
        "id": "JZHh1b0NPUlf",
        "outputId": "46debe23-3d16-4fe9-b61f-a364393b210a"
      },
      "execution_count": 1,
      "outputs": [
        {
          "output_type": "stream",
          "name": "stdout",
          "text": [
            "sample_data\n"
          ]
        }
      ]
    },
    {
      "cell_type": "code",
      "source": [
        "import pandas as pd\n",
        "# Example dat\n",
        "shift = pd.DataFrame({\n",
        "   'Employee_ID': [1, 2, 3],\n",
        "   'Scheduled_Start': ['2024-11-19 09:00', '2024-11-19 14:00', '2024-11-19 08:00'],\n",
        "   'Scheduled_End': ['2024-11-19 17:00', '2024-11-19 22:00', '2024-11-19 16:00']\n",
        "})\n",
        "df_data = pd.DataFrame({\n",
        "   'Employee_ID': [1, 2, 3],\n",
        "   'Clock_In': ['2024-11-19 09:15', '2024-11-19 14:05', '2024-11-19 07:50'],\n",
        "   'Clock_Out': ['2024-11-19 17:10', '2024-11-19 22:15', '2024-11-19 15:45']})\n",
        "# Assuming you intended to print a dictionary\n",
        "print('Employee_Name': 1, 2, 3)"
      ],
      "metadata": {
        "colab": {
          "base_uri": "https://localhost:8080/",
          "height": 106
        },
        "id": "sxlVLkh9FbXE",
        "outputId": "4e4d4240-9c52-4e9f-d292-8f0b977fc2b0"
      },
      "execution_count": 36,
      "outputs": [
        {
          "output_type": "error",
          "ename": "SyntaxError",
          "evalue": "invalid syntax (<ipython-input-36-85b5a4434aad>, line 13)",
          "traceback": [
            "\u001b[0;36m  File \u001b[0;32m\"<ipython-input-36-85b5a4434aad>\"\u001b[0;36m, line \u001b[0;32m13\u001b[0m\n\u001b[0;31m    print('Employee_Name': 1, 2, 3)\u001b[0m\n\u001b[0m                         ^\u001b[0m\n\u001b[0;31mSyntaxError\u001b[0m\u001b[0;31m:\u001b[0m invalid syntax\n"
          ]
        }
      ]
    }
  ]
}